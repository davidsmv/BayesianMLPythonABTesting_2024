{
 "cells": [
  {
   "cell_type": "code",
   "execution_count": 2,
   "metadata": {},
   "outputs": [],
   "source": [
    "import numpy as np\n",
    "from scipy.stats import norm\n",
    "from statsmodels.stats.weightstats import ztest"
   ]
  },
  {
   "cell_type": "code",
   "execution_count": 3,
   "metadata": {},
   "outputs": [],
   "source": [
    "np.random.seed(0)"
   ]
  },
  {
   "cell_type": "code",
   "execution_count": 4,
   "metadata": {},
   "outputs": [],
   "source": [
    "N = 100\n",
    "mu = 0.2\n",
    "sigma = 1\n",
    "x = np.random.randn(N)*sigma + mu"
   ]
  },
  {
   "cell_type": "code",
   "execution_count": 5,
   "metadata": {},
   "outputs": [
    {
     "data": {
      "text/plain": [
       "array([ 1.96405235,  0.60015721,  1.17873798,  2.4408932 ,  2.06755799,\n",
       "       -0.77727788,  1.15008842,  0.04864279,  0.09678115,  0.6105985 ,\n",
       "        0.34404357,  1.65427351,  0.96103773,  0.32167502,  0.64386323,\n",
       "        0.53367433,  1.69407907, -0.00515826,  0.5130677 , -0.65409574,\n",
       "       -2.35298982,  0.8536186 ,  1.0644362 , -0.54216502,  2.46975462,\n",
       "       -1.25436567,  0.24575852,  0.01281615,  1.73277921,  1.66935877,\n",
       "        0.35494743,  0.57816252, -0.68778575, -1.78079647, -0.14791215,\n",
       "        0.35634897,  1.43029068,  1.40237985, -0.18732682, -0.10230275,\n",
       "       -0.84855297, -1.22001794, -1.50627019,  2.1507754 , -0.30965218,\n",
       "       -0.2380743 , -1.05279536,  0.97749036, -1.41389785, -0.01274028,\n",
       "       -0.69546656,  0.5869025 , -0.31080514, -0.98063218,  0.17181777,\n",
       "        0.62833187,  0.26651722,  0.5024719 , -0.43432209, -0.16274117,\n",
       "       -0.47246045, -0.15955316, -0.61314628, -1.5262826 ,  0.37742614,\n",
       "       -0.20178094, -1.43019835,  0.66278226, -0.70729836,  0.2519454 ,\n",
       "        0.92909056,  0.32898291,  1.33940068, -1.03482582,  0.60234164,\n",
       "       -0.48481009, -0.67079715, -0.37884966, -0.11155253,  0.25616534,\n",
       "       -0.96514984,  1.10082649,  0.66566244, -1.33624369,  1.68825219,\n",
       "        2.09588918,  1.37877957,  0.02007516, -0.87075262,  1.25445173,\n",
       "       -0.20317695,  1.42244507,  0.40827498,  1.17663904,  0.5563664 ,\n",
       "        0.90657317,  0.21050002,  1.98587049,  0.32691209,  0.60198936])"
      ]
     },
     "execution_count": 5,
     "metadata": {},
     "output_type": "execute_result"
    }
   ],
   "source": [
    "x"
   ]
  },
  {
   "cell_type": "code",
   "execution_count": 6,
   "metadata": {},
   "outputs": [
    {
     "data": {
      "text/plain": [
       "(2.5648404153513686, 0.010322326848815837)"
      ]
     },
     "execution_count": 6,
     "metadata": {},
     "output_type": "execute_result"
    }
   ],
   "source": [
    "# two-sided test\n",
    "ztest(x)"
   ]
  },
  {
   "cell_type": "code",
   "execution_count": 7,
   "metadata": {},
   "outputs": [
    {
     "data": {
      "text/plain": [
       "(2.564840415351368, 0.010322326848815901)"
      ]
     },
     "execution_count": 7,
     "metadata": {},
     "output_type": "execute_result"
    }
   ],
   "source": [
    "# two-sided test\n",
    "mu_hat = x.mean()\n",
    "sigma_hat = x.std(ddof=1)\n",
    "z = mu_hat / (sigma_hat / np.sqrt(N)) # our mu0 = 0\n",
    "p_right = 1 - norm.cdf(np.abs(z))\n",
    "p_left = norm.cdf(-np.abs(z))\n",
    "p = p_right + p_left\n",
    "z, p"
   ]
  },
  {
   "cell_type": "code",
   "execution_count": 8,
   "metadata": {},
   "outputs": [
    {
     "data": {
      "text/plain": [
       "(2.5648404153513686, 0.010322326848815837)"
      ]
     },
     "execution_count": 8,
     "metadata": {},
     "output_type": "execute_result"
    }
   ],
   "source": [
    "### Alternate calculation\n",
    "mu_hat = x.mean()\n",
    "v_hat = x.var(ddof=1) / N\n",
    "z = mu_hat / np.sqrt(v_hat) # our mu0 = 0\n",
    "p = 2 * norm.sf(np.abs(z))\n",
    "z, p"
   ]
  },
  {
   "cell_type": "code",
   "execution_count": 9,
   "metadata": {},
   "outputs": [
    {
     "data": {
      "text/plain": [
       "(2.5648404153513686, 0.005161163424407918)"
      ]
     },
     "execution_count": 9,
     "metadata": {},
     "output_type": "execute_result"
    }
   ],
   "source": [
    "# one-side test\n",
    "ztest(x, alternative=\"larger\")"
   ]
  },
  {
   "cell_type": "code",
   "execution_count": 10,
   "metadata": {},
   "outputs": [
    {
     "data": {
      "text/plain": [
       "(2.564840415351368, 0.005161163424407977)"
      ]
     },
     "execution_count": 10,
     "metadata": {},
     "output_type": "execute_result"
    }
   ],
   "source": [
    "# one-sided test\n",
    "mu_hat = x.mean()\n",
    "sigma_hat = x.std(ddof=1)\n",
    "z = mu_hat / (sigma_hat / np.sqrt(N)) # our mu0 = 0\n",
    "p = 1 - norm.cdf(z)\n",
    "z, p"
   ]
  },
  {
   "cell_type": "code",
   "execution_count": 11,
   "metadata": {},
   "outputs": [
    {
     "data": {
      "text/plain": [
       "(0.5904283402851699, 0.5549035151647227)"
      ]
     },
     "execution_count": 11,
     "metadata": {},
     "output_type": "execute_result"
    }
   ],
   "source": [
    "# null under a different reference value\n",
    "mu0 = 0.2\n",
    "ztest(x, value=mu0)"
   ]
  },
  {
   "cell_type": "code",
   "execution_count": 12,
   "metadata": {},
   "outputs": [
    {
     "data": {
      "text/plain": [
       "(0.5904283402851698, 0.5549035151647228)"
      ]
     },
     "execution_count": 12,
     "metadata": {},
     "output_type": "execute_result"
    }
   ],
   "source": [
    "# null under a different reference value\n",
    "mu_hat = x.mean()\n",
    "sigma_hat = x.std(ddof=1)\n",
    "z = (mu_hat - mu0) / (sigma_hat / np.sqrt(N))\n",
    "p_right = 1 - norm.cdf(np.abs(z))\n",
    "p_left = norm.cdf(-np.abs(z))\n",
    "p = p_right + p_left\n",
    "z, p"
   ]
  },
  {
   "cell_type": "code",
   "execution_count": 13,
   "metadata": {},
   "outputs": [],
   "source": [
    "# tw-sample test\n",
    "N0 = 100\n",
    "mu0 = 0.2\n",
    "sigma0 = 1\n",
    "x0 = np.random.randn(N0) * sigma0 + mu0\n",
    "\n",
    "N1 = 100\n",
    "mu1 = 0.5\n",
    "sigma1 = 1\n",
    "x1 = np.random.randn(N1) * sigma1 + mu1"
   ]
  },
  {
   "cell_type": "code",
   "execution_count": 14,
   "metadata": {},
   "outputs": [
    {
     "data": {
      "text/plain": [
       "(-1.1234612344369315, 0.2612416557056353)"
      ]
     },
     "execution_count": 14,
     "metadata": {},
     "output_type": "execute_result"
    }
   ],
   "source": [
    "ztest(x0, x1)"
   ]
  },
  {
   "cell_type": "code",
   "execution_count": 16,
   "metadata": {},
   "outputs": [
    {
     "name": "stdout",
     "output_type": "stream",
     "text": [
      "0.2820129707478374\n",
      "0.440767739440337\n"
     ]
    },
    {
     "data": {
      "text/plain": [
       "(1.1234612344369315, 0.26124165570563523)"
      ]
     },
     "execution_count": 16,
     "metadata": {},
     "output_type": "execute_result"
    }
   ],
   "source": [
    "# two-sample test implementation\n",
    "mu_hat0 = x0.mean()\n",
    "mu_hat1 = x1.mean()\n",
    "\n",
    "\n",
    "\n",
    "print(mu_hat0)\n",
    "print(mu_hat1)\n",
    "\n",
    "\n",
    "dmu_hat = mu_hat1 - mu_hat0\n",
    "\n",
    "s2_hat0 = x0.var(ddof=1)\n",
    "s2_hat1 = x1.var(ddof=1)\n",
    "\n",
    "s_hat = np.sqrt(s2_hat0 / N0 + s2_hat1 / N1)\n",
    "\n",
    "\n",
    "z = dmu_hat / s_hat\n",
    "\n",
    "p_right = 1 - norm.cdf(np.abs(z))\n",
    "\n",
    "p_left = norm.cdf(-np.abs(z))\n",
    "\n",
    "\n",
    "p = p_right + p_left\n",
    "\n",
    "z, p"
   ]
  },
  {
   "cell_type": "code",
   "execution_count": 18,
   "metadata": {},
   "outputs": [
    {
     "name": "stdout",
     "output_type": "stream",
     "text": [
      "0.0538\n"
     ]
    }
   ],
   "source": [
    "# show that we will reject the null hypothesis when the\n",
    "# null hypothesis is true (false alarm) 5% of the time\n",
    "num_tests = 10000\n",
    "results = np.zeros(num_tests)\n",
    "for i in range(num_tests):\n",
    "  x1 = np.random.randn(100)\n",
    "  x2 = np.random.randn(100)\n",
    "  z, p = ztest(x1, x2)\n",
    "  results[i] = (p < 0.05)\n",
    "print(results.mean())"
   ]
  }
 ],
 "metadata": {
  "kernelspec": {
   "display_name": ".venv",
   "language": "python",
   "name": "python3"
  },
  "language_info": {
   "codemirror_mode": {
    "name": "ipython",
    "version": 3
   },
   "file_extension": ".py",
   "mimetype": "text/x-python",
   "name": "python",
   "nbconvert_exporter": "python",
   "pygments_lexer": "ipython3",
   "version": "3.11.9"
  }
 },
 "nbformat": 4,
 "nbformat_minor": 2
}
