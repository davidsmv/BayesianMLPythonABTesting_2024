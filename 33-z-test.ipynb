{
 "cells": [
  {
   "cell_type": "code",
   "execution_count": 1,
   "metadata": {},
   "outputs": [],
   "source": [
    "import numpy as np\n",
    "from scipy.stats import norm\n",
    "from statsmodels.stats.weightstats import ztest"
   ]
  },
  {
   "cell_type": "code",
   "execution_count": 2,
   "metadata": {},
   "outputs": [],
   "source": [
    "np.random.seed(0)"
   ]
  },
  {
   "cell_type": "code",
   "execution_count": 3,
   "metadata": {},
   "outputs": [],
   "source": [
    "N = 100\n",
    "mu = 0.2\n",
    "sigma = 1\n",
    "x = np.random.randn(N)*sigma + mu"
   ]
  },
  {
   "cell_type": "code",
   "execution_count": 4,
   "metadata": {},
   "outputs": [
    {
     "data": {
      "text/plain": [
       "array([ 1.96405235,  0.60015721,  1.17873798,  2.4408932 ,  2.06755799,\n",
       "       -0.77727788,  1.15008842,  0.04864279,  0.09678115,  0.6105985 ,\n",
       "        0.34404357,  1.65427351,  0.96103773,  0.32167502,  0.64386323,\n",
       "        0.53367433,  1.69407907, -0.00515826,  0.5130677 , -0.65409574,\n",
       "       -2.35298982,  0.8536186 ,  1.0644362 , -0.54216502,  2.46975462,\n",
       "       -1.25436567,  0.24575852,  0.01281615,  1.73277921,  1.66935877,\n",
       "        0.35494743,  0.57816252, -0.68778575, -1.78079647, -0.14791215,\n",
       "        0.35634897,  1.43029068,  1.40237985, -0.18732682, -0.10230275,\n",
       "       -0.84855297, -1.22001794, -1.50627019,  2.1507754 , -0.30965218,\n",
       "       -0.2380743 , -1.05279536,  0.97749036, -1.41389785, -0.01274028,\n",
       "       -0.69546656,  0.5869025 , -0.31080514, -0.98063218,  0.17181777,\n",
       "        0.62833187,  0.26651722,  0.5024719 , -0.43432209, -0.16274117,\n",
       "       -0.47246045, -0.15955316, -0.61314628, -1.5262826 ,  0.37742614,\n",
       "       -0.20178094, -1.43019835,  0.66278226, -0.70729836,  0.2519454 ,\n",
       "        0.92909056,  0.32898291,  1.33940068, -1.03482582,  0.60234164,\n",
       "       -0.48481009, -0.67079715, -0.37884966, -0.11155253,  0.25616534,\n",
       "       -0.96514984,  1.10082649,  0.66566244, -1.33624369,  1.68825219,\n",
       "        2.09588918,  1.37877957,  0.02007516, -0.87075262,  1.25445173,\n",
       "       -0.20317695,  1.42244507,  0.40827498,  1.17663904,  0.5563664 ,\n",
       "        0.90657317,  0.21050002,  1.98587049,  0.32691209,  0.60198936])"
      ]
     },
     "execution_count": 4,
     "metadata": {},
     "output_type": "execute_result"
    }
   ],
   "source": [
    "x"
   ]
  },
  {
   "cell_type": "code",
   "execution_count": 5,
   "metadata": {},
   "outputs": [
    {
     "data": {
      "text/plain": [
       "(2.5648404153513686, 0.010322326848815837)"
      ]
     },
     "execution_count": 5,
     "metadata": {},
     "output_type": "execute_result"
    }
   ],
   "source": [
    "# two-sided test\n",
    "ztest(x)"
   ]
  },
  {
   "cell_type": "code",
   "execution_count": 6,
   "metadata": {},
   "outputs": [
    {
     "data": {
      "text/plain": [
       "(2.564840415351368, 0.010322326848815901)"
      ]
     },
     "execution_count": 6,
     "metadata": {},
     "output_type": "execute_result"
    }
   ],
   "source": [
    "# two-sided test\n",
    "mu_hat = x.mean()\n",
    "sigma_hat = x.std(ddof=1)\n",
    "z = mu_hat / (sigma_hat / np.sqrt(N)) # our mu0 = 0\n",
    "p_right = 1 - norm.cdf(np.abs(z))\n",
    "p_left = norm.cdf(-np.abs(z))\n",
    "p = p_right + p_left\n",
    "z, p"
   ]
  },
  {
   "cell_type": "code",
   "execution_count": 7,
   "metadata": {},
   "outputs": [
    {
     "data": {
      "text/plain": [
       "(2.5648404153513686, 0.010322326848815837)"
      ]
     },
     "execution_count": 7,
     "metadata": {},
     "output_type": "execute_result"
    }
   ],
   "source": [
    "### Alternate calculation\n",
    "mu_hat = x.mean()\n",
    "v_hat = x.var(ddof=1) / N\n",
    "z = mu_hat / np.sqrt(v_hat) # our mu0 = 0\n",
    "p = 2 * norm.sf(np.abs(z))\n",
    "z, p"
   ]
  },
  {
   "cell_type": "code",
   "execution_count": 8,
   "metadata": {},
   "outputs": [
    {
     "data": {
      "text/plain": [
       "(2.5648404153513686, 0.005161163424407918)"
      ]
     },
     "execution_count": 8,
     "metadata": {},
     "output_type": "execute_result"
    }
   ],
   "source": [
    "# one-side test\n",
    "ztest(x, alternative=\"larger\")"
   ]
  },
  {
   "cell_type": "code",
   "execution_count": 9,
   "metadata": {},
   "outputs": [
    {
     "data": {
      "text/plain": [
       "(2.564840415351368, 0.005161163424407977)"
      ]
     },
     "execution_count": 9,
     "metadata": {},
     "output_type": "execute_result"
    }
   ],
   "source": [
    "# one-sided test\n",
    "mu_hat = x.mean()\n",
    "sigma_hat = x.std(ddof=1)\n",
    "z = mu_hat / (sigma_hat / np.sqrt(N)) # our mu0 = 0\n",
    "p = 1 - norm.cdf(z)\n",
    "z, p"
   ]
  },
  {
   "cell_type": "code",
   "execution_count": 10,
   "metadata": {},
   "outputs": [
    {
     "data": {
      "text/plain": [
       "(0.5904283402851699, 0.5549035151647227)"
      ]
     },
     "execution_count": 10,
     "metadata": {},
     "output_type": "execute_result"
    }
   ],
   "source": [
    "# null under a different reference value\n",
    "mu0 = 0.2\n",
    "ztest(x, value=mu0)"
   ]
  },
  {
   "cell_type": "code",
   "execution_count": 11,
   "metadata": {},
   "outputs": [
    {
     "data": {
      "text/plain": [
       "(0.5904283402851698, 0.5549035151647228)"
      ]
     },
     "execution_count": 11,
     "metadata": {},
     "output_type": "execute_result"
    }
   ],
   "source": [
    "# null under a different reference value\n",
    "mu_hat = x.mean()\n",
    "sigma_hat = x.std(ddof=1)\n",
    "z = (mu_hat - mu0) / (sigma_hat / np.sqrt(N))\n",
    "p_right = 1 - norm.cdf(np.abs(z))\n",
    "p_left = norm.cdf(-np.abs(z))\n",
    "p = p_right + p_left\n",
    "z, p"
   ]
  },
  {
   "cell_type": "code",
   "execution_count": 12,
   "metadata": {},
   "outputs": [],
   "source": [
    "# tw-sample test\n",
    "N0 = 100\n",
    "mu0 = 0.2\n",
    "sigma0 = 1\n",
    "x0 = np.random.randn(N0) * sigma0 + mu0\n",
    "\n",
    "N1 = 100\n",
    "mu1 = 0.5\n",
    "sigma1 = 1\n",
    "x1 = np.random.randn(N1) * sigma1 + mu1"
   ]
  },
  {
   "cell_type": "code",
   "execution_count": 13,
   "metadata": {},
   "outputs": [
    {
     "data": {
      "text/plain": [
       "(-1.1234612344369315, 0.2612416557056353)"
      ]
     },
     "execution_count": 13,
     "metadata": {},
     "output_type": "execute_result"
    }
   ],
   "source": [
    "ztest(x0, x1)"
   ]
  },
  {
   "cell_type": "code",
   "execution_count": 14,
   "metadata": {},
   "outputs": [
    {
     "name": "stdout",
     "output_type": "stream",
     "text": [
      "0.2820129707478374\n",
      "0.440767739440337\n"
     ]
    },
    {
     "data": {
      "text/plain": [
       "(1.1234612344369315, 0.26124165570563523)"
      ]
     },
     "execution_count": 14,
     "metadata": {},
     "output_type": "execute_result"
    }
   ],
   "source": [
    "# two-sample test implementation\n",
    "mu_hat0 = x0.mean()\n",
    "mu_hat1 = x1.mean()\n",
    "\n",
    "\n",
    "\n",
    "print(mu_hat0)\n",
    "print(mu_hat1)\n",
    "\n",
    "\n",
    "dmu_hat = mu_hat1 - mu_hat0\n",
    "\n",
    "s2_hat0 = x0.var(ddof=1)\n",
    "s2_hat1 = x1.var(ddof=1)\n",
    "\n",
    "s_hat = np.sqrt(s2_hat0 / N0 + s2_hat1 / N1)\n",
    "\n",
    "\n",
    "z = dmu_hat / s_hat\n",
    "\n",
    "p_right = 1 - norm.cdf(np.abs(z))\n",
    "\n",
    "p_left = norm.cdf(-np.abs(z))\n",
    "\n",
    "\n",
    "p = p_right + p_left\n",
    "\n",
    "z, p"
   ]
  },
  {
   "cell_type": "code",
   "execution_count": 15,
   "metadata": {},
   "outputs": [
    {
     "name": "stdout",
     "output_type": "stream",
     "text": [
      "0.049\n"
     ]
    }
   ],
   "source": [
    "# show that we will reject the null hypothesis when the\n",
    "# null hypothesis is true (false alarm) 5% of the time\n",
    "num_tests = 10000\n",
    "results = np.zeros(num_tests)\n",
    "for i in range(num_tests):\n",
    "  x1 = np.random.randn(100)\n",
    "  x2 = np.random.randn(100)\n",
    "  z, p = ztest(x1, x2)\n",
    "  results[i] = (p < 0.05)\n",
    "print(results.mean())"
   ]
  },
  {
   "cell_type": "markdown",
   "metadata": {},
   "source": [
    "# Real example"
   ]
  },
  {
   "cell_type": "code",
   "execution_count": 16,
   "metadata": {},
   "outputs": [
    {
     "name": "stdout",
     "output_type": "stream",
     "text": [
      "Download complete\n"
     ]
    }
   ],
   "source": [
    "import requests\n",
    "\n",
    "url = 'https://lazyprogrammer.me/course_files/titanic_train.csv'\n",
    "response = requests.get(url)\n",
    "\n",
    "with open('datasets/titanic_train.csv', 'wb') as file:\n",
    "    file.write(response.content)\n",
    "\n",
    "print(\"Download complete\")"
   ]
  },
  {
   "cell_type": "code",
   "execution_count": 17,
   "metadata": {},
   "outputs": [],
   "source": [
    "import pandas as pd\n",
    "import seaborn as sns\n",
    "import matplotlib.pyplot as plt"
   ]
  },
  {
   "cell_type": "code",
   "execution_count": 18,
   "metadata": {},
   "outputs": [],
   "source": [
    "df = pd.read_csv('datasets/titanic_train.csv')"
   ]
  },
  {
   "cell_type": "code",
   "execution_count": 19,
   "metadata": {},
   "outputs": [
    {
     "data": {
      "text/html": [
       "<div>\n",
       "<style scoped>\n",
       "    .dataframe tbody tr th:only-of-type {\n",
       "        vertical-align: middle;\n",
       "    }\n",
       "\n",
       "    .dataframe tbody tr th {\n",
       "        vertical-align: top;\n",
       "    }\n",
       "\n",
       "    .dataframe thead th {\n",
       "        text-align: right;\n",
       "    }\n",
       "</style>\n",
       "<table border=\"1\" class=\"dataframe\">\n",
       "  <thead>\n",
       "    <tr style=\"text-align: right;\">\n",
       "      <th></th>\n",
       "      <th>PassengerId</th>\n",
       "      <th>Survived</th>\n",
       "      <th>Pclass</th>\n",
       "      <th>Name</th>\n",
       "      <th>Sex</th>\n",
       "      <th>Age</th>\n",
       "      <th>SibSp</th>\n",
       "      <th>Parch</th>\n",
       "      <th>Ticket</th>\n",
       "      <th>Fare</th>\n",
       "      <th>Cabin</th>\n",
       "      <th>Embarked</th>\n",
       "    </tr>\n",
       "  </thead>\n",
       "  <tbody>\n",
       "    <tr>\n",
       "      <th>0</th>\n",
       "      <td>1</td>\n",
       "      <td>0</td>\n",
       "      <td>3</td>\n",
       "      <td>Braund, Mr. Owen Harris</td>\n",
       "      <td>male</td>\n",
       "      <td>22.0</td>\n",
       "      <td>1</td>\n",
       "      <td>0</td>\n",
       "      <td>A/5 21171</td>\n",
       "      <td>7.2500</td>\n",
       "      <td>NaN</td>\n",
       "      <td>S</td>\n",
       "    </tr>\n",
       "    <tr>\n",
       "      <th>1</th>\n",
       "      <td>2</td>\n",
       "      <td>1</td>\n",
       "      <td>1</td>\n",
       "      <td>Cumings, Mrs. John Bradley (Florence Briggs Th...</td>\n",
       "      <td>female</td>\n",
       "      <td>38.0</td>\n",
       "      <td>1</td>\n",
       "      <td>0</td>\n",
       "      <td>PC 17599</td>\n",
       "      <td>71.2833</td>\n",
       "      <td>C85</td>\n",
       "      <td>C</td>\n",
       "    </tr>\n",
       "    <tr>\n",
       "      <th>2</th>\n",
       "      <td>3</td>\n",
       "      <td>1</td>\n",
       "      <td>3</td>\n",
       "      <td>Heikkinen, Miss. Laina</td>\n",
       "      <td>female</td>\n",
       "      <td>26.0</td>\n",
       "      <td>0</td>\n",
       "      <td>0</td>\n",
       "      <td>STON/O2. 3101282</td>\n",
       "      <td>7.9250</td>\n",
       "      <td>NaN</td>\n",
       "      <td>S</td>\n",
       "    </tr>\n",
       "    <tr>\n",
       "      <th>3</th>\n",
       "      <td>4</td>\n",
       "      <td>1</td>\n",
       "      <td>1</td>\n",
       "      <td>Futrelle, Mrs. Jacques Heath (Lily May Peel)</td>\n",
       "      <td>female</td>\n",
       "      <td>35.0</td>\n",
       "      <td>1</td>\n",
       "      <td>0</td>\n",
       "      <td>113803</td>\n",
       "      <td>53.1000</td>\n",
       "      <td>C123</td>\n",
       "      <td>S</td>\n",
       "    </tr>\n",
       "    <tr>\n",
       "      <th>4</th>\n",
       "      <td>5</td>\n",
       "      <td>0</td>\n",
       "      <td>3</td>\n",
       "      <td>Allen, Mr. William Henry</td>\n",
       "      <td>male</td>\n",
       "      <td>35.0</td>\n",
       "      <td>0</td>\n",
       "      <td>0</td>\n",
       "      <td>373450</td>\n",
       "      <td>8.0500</td>\n",
       "      <td>NaN</td>\n",
       "      <td>S</td>\n",
       "    </tr>\n",
       "  </tbody>\n",
       "</table>\n",
       "</div>"
      ],
      "text/plain": [
       "   PassengerId  Survived  Pclass  \\\n",
       "0            1         0       3   \n",
       "1            2         1       1   \n",
       "2            3         1       3   \n",
       "3            4         1       1   \n",
       "4            5         0       3   \n",
       "\n",
       "                                                Name     Sex   Age  SibSp  \\\n",
       "0                            Braund, Mr. Owen Harris    male  22.0      1   \n",
       "1  Cumings, Mrs. John Bradley (Florence Briggs Th...  female  38.0      1   \n",
       "2                             Heikkinen, Miss. Laina  female  26.0      0   \n",
       "3       Futrelle, Mrs. Jacques Heath (Lily May Peel)  female  35.0      1   \n",
       "4                           Allen, Mr. William Henry    male  35.0      0   \n",
       "\n",
       "   Parch            Ticket     Fare Cabin Embarked  \n",
       "0      0         A/5 21171   7.2500   NaN        S  \n",
       "1      0          PC 17599  71.2833   C85        C  \n",
       "2      0  STON/O2. 3101282   7.9250   NaN        S  \n",
       "3      0            113803  53.1000  C123        S  \n",
       "4      0            373450   8.0500   NaN        S  "
      ]
     },
     "execution_count": 19,
     "metadata": {},
     "output_type": "execute_result"
    }
   ],
   "source": [
    "df.head()"
   ]
  },
  {
   "cell_type": "code",
   "execution_count": 20,
   "metadata": {},
   "outputs": [
    {
     "data": {
      "text/html": [
       "<div>\n",
       "<style scoped>\n",
       "    .dataframe tbody tr th:only-of-type {\n",
       "        vertical-align: middle;\n",
       "    }\n",
       "\n",
       "    .dataframe tbody tr th {\n",
       "        vertical-align: top;\n",
       "    }\n",
       "\n",
       "    .dataframe thead th {\n",
       "        text-align: right;\n",
       "    }\n",
       "</style>\n",
       "<table border=\"1\" class=\"dataframe\">\n",
       "  <thead>\n",
       "    <tr style=\"text-align: right;\">\n",
       "      <th></th>\n",
       "      <th>PassengerId</th>\n",
       "      <th>Survived</th>\n",
       "      <th>Pclass</th>\n",
       "      <th>Name</th>\n",
       "      <th>Sex</th>\n",
       "      <th>Age</th>\n",
       "      <th>SibSp</th>\n",
       "      <th>Parch</th>\n",
       "      <th>Ticket</th>\n",
       "      <th>Fare</th>\n",
       "      <th>Cabin</th>\n",
       "      <th>Embarked</th>\n",
       "    </tr>\n",
       "  </thead>\n",
       "  <tbody>\n",
       "    <tr>\n",
       "      <th>1</th>\n",
       "      <td>2</td>\n",
       "      <td>1</td>\n",
       "      <td>1</td>\n",
       "      <td>Cumings, Mrs. John Bradley (Florence Briggs Th...</td>\n",
       "      <td>female</td>\n",
       "      <td>38.0</td>\n",
       "      <td>1</td>\n",
       "      <td>0</td>\n",
       "      <td>PC 17599</td>\n",
       "      <td>71.2833</td>\n",
       "      <td>C85</td>\n",
       "      <td>C</td>\n",
       "    </tr>\n",
       "    <tr>\n",
       "      <th>2</th>\n",
       "      <td>3</td>\n",
       "      <td>1</td>\n",
       "      <td>3</td>\n",
       "      <td>Heikkinen, Miss. Laina</td>\n",
       "      <td>female</td>\n",
       "      <td>26.0</td>\n",
       "      <td>0</td>\n",
       "      <td>0</td>\n",
       "      <td>STON/O2. 3101282</td>\n",
       "      <td>7.9250</td>\n",
       "      <td>NaN</td>\n",
       "      <td>S</td>\n",
       "    </tr>\n",
       "    <tr>\n",
       "      <th>3</th>\n",
       "      <td>4</td>\n",
       "      <td>1</td>\n",
       "      <td>1</td>\n",
       "      <td>Futrelle, Mrs. Jacques Heath (Lily May Peel)</td>\n",
       "      <td>female</td>\n",
       "      <td>35.0</td>\n",
       "      <td>1</td>\n",
       "      <td>0</td>\n",
       "      <td>113803</td>\n",
       "      <td>53.1000</td>\n",
       "      <td>C123</td>\n",
       "      <td>S</td>\n",
       "    </tr>\n",
       "    <tr>\n",
       "      <th>8</th>\n",
       "      <td>9</td>\n",
       "      <td>1</td>\n",
       "      <td>3</td>\n",
       "      <td>Johnson, Mrs. Oscar W (Elisabeth Vilhelmina Berg)</td>\n",
       "      <td>female</td>\n",
       "      <td>27.0</td>\n",
       "      <td>0</td>\n",
       "      <td>2</td>\n",
       "      <td>347742</td>\n",
       "      <td>11.1333</td>\n",
       "      <td>NaN</td>\n",
       "      <td>S</td>\n",
       "    </tr>\n",
       "    <tr>\n",
       "      <th>9</th>\n",
       "      <td>10</td>\n",
       "      <td>1</td>\n",
       "      <td>2</td>\n",
       "      <td>Nasser, Mrs. Nicholas (Adele Achem)</td>\n",
       "      <td>female</td>\n",
       "      <td>14.0</td>\n",
       "      <td>1</td>\n",
       "      <td>0</td>\n",
       "      <td>237736</td>\n",
       "      <td>30.0708</td>\n",
       "      <td>NaN</td>\n",
       "      <td>C</td>\n",
       "    </tr>\n",
       "  </tbody>\n",
       "</table>\n",
       "</div>"
      ],
      "text/plain": [
       "   PassengerId  Survived  Pclass  \\\n",
       "1            2         1       1   \n",
       "2            3         1       3   \n",
       "3            4         1       1   \n",
       "8            9         1       3   \n",
       "9           10         1       2   \n",
       "\n",
       "                                                Name     Sex   Age  SibSp  \\\n",
       "1  Cumings, Mrs. John Bradley (Florence Briggs Th...  female  38.0      1   \n",
       "2                             Heikkinen, Miss. Laina  female  26.0      0   \n",
       "3       Futrelle, Mrs. Jacques Heath (Lily May Peel)  female  35.0      1   \n",
       "8  Johnson, Mrs. Oscar W (Elisabeth Vilhelmina Berg)  female  27.0      0   \n",
       "9                Nasser, Mrs. Nicholas (Adele Achem)  female  14.0      1   \n",
       "\n",
       "   Parch            Ticket     Fare Cabin Embarked  \n",
       "1      0          PC 17599  71.2833   C85        C  \n",
       "2      0  STON/O2. 3101282   7.9250   NaN        S  \n",
       "3      0            113803  53.1000  C123        S  \n",
       "8      2            347742  11.1333   NaN        S  \n",
       "9      0            237736  30.0708   NaN        C  "
      ]
     },
     "execution_count": 20,
     "metadata": {},
     "output_type": "execute_result"
    }
   ],
   "source": [
    "df[df[\"Survived\"] == 1].head()"
   ]
  },
  {
   "cell_type": "code",
   "execution_count": 21,
   "metadata": {},
   "outputs": [],
   "source": [
    "x1 = df[df[\"Survived\"] == 1][\"Fare\"].dropna().to_numpy()"
   ]
  },
  {
   "cell_type": "code",
   "execution_count": 22,
   "metadata": {},
   "outputs": [
    {
     "data": {
      "text/plain": [
       "array([ 71.2833,   7.925 ,  53.1   ,  11.1333,  30.0708,  16.7   ,\n",
       "        26.55  ,  16.    ,  13.    ,   7.225 ,  13.    ,   8.0292,\n",
       "        35.5   ,  31.3875,   7.8792, 146.5208,   7.75  ,   7.2292,\n",
       "        11.2417,  41.5792,   7.8792,   7.75  ,  76.7292,  26.    ,\n",
       "        35.5   ,  10.5   ,  27.75  ,  80.    ,  15.2458,  10.5   ,\n",
       "         7.925 ,  56.4958,  29.    ,  12.475 ,   9.5   ,   7.7875,\n",
       "        10.5   ,  15.85  , 263.    ,  63.3583,  23.    ,   7.65  ,\n",
       "         7.775 ,  24.15  ,  13.    ,  11.2417,   7.1417,  22.3583,\n",
       "        26.    ,  26.2833,   7.75  ,  15.85  ,   7.7958,  66.6   ,\n",
       "         7.7333,  15.75  ,  20.525 ,  55.    ,  11.1333,  39.    ,\n",
       "        22.025 ,  15.5   ,  26.55  ,  13.    ,   7.8542,  26.    ,\n",
       "        27.7208, 146.5208,   7.75  ,   8.05  ,  18.7875,   7.75  ,\n",
       "        31.    ,  21.    , 113.275 ,   7.925 ,  76.2917,   8.05  ,\n",
       "        90.    ,  10.5   ,  83.475 ,  31.3875,  26.25  ,  15.5   ,\n",
       "        14.5   ,  52.5542,  15.2458,  79.2   ,  86.5   , 512.3292,\n",
       "        26.    ,  31.3875,   7.775 , 153.4625, 135.6333,   0.    ,\n",
       "        19.5   ,   7.75  ,  77.9583,  20.25  ,   8.05  ,   9.5   ,\n",
       "        13.    ,   7.75  ,  78.85  ,  91.0792,  30.5   , 247.5208,\n",
       "         7.75  ,  23.25  ,  12.35  , 151.55  , 110.8833, 108.9   ,\n",
       "        56.9292,  83.1583, 262.375 ,   7.8542,  26.    , 164.8667,\n",
       "       134.5   ,  12.35  ,  29.    , 135.6333,  13.    ,  20.525 ,\n",
       "        57.9792,  23.25  , 133.65  , 134.5   ,   8.05  ,  26.    ,\n",
       "       263.    ,  13.    ,  13.    ,  16.1   ,  15.9   ,  55.    ,\n",
       "         7.8792,   7.8792,  75.25  ,   7.2292,   7.75  ,  69.3   ,\n",
       "        55.4417,  82.1708,   7.25  , 227.525 ,  15.7417,  52.    ,\n",
       "        13.    ,  12.    , 120.    ,   7.7958, 113.275 ,  16.7   ,\n",
       "        12.65  ,   7.925 ,  18.75  ,  90.    ,   7.925 ,  32.5   ,\n",
       "        13.    ,  26.    ,  26.    ,   8.05  ,  26.55  ,  16.1   ,\n",
       "        26.    , 120.    ,  18.75  ,  26.25  ,  13.    ,   8.1125,\n",
       "        81.8583,  19.5   ,  26.55  ,  19.2583,  30.5   ,  89.1042,\n",
       "         7.8958,  51.8625,  10.5   ,  26.55  ,  19.2583,  27.75  ,\n",
       "        13.7917,  12.2875,   9.5875,  91.0792,  90.    ,  15.9   ,\n",
       "        78.2667,  86.5   ,  26.    ,  26.55  ,  56.4958,   7.75  ,\n",
       "        26.2875,  59.4   ,  10.5   ,  26.    ,  93.5   ,  57.9792,\n",
       "        10.5   ,  26.    ,  22.3583,  26.25  , 106.425 ,  49.5   ,\n",
       "        71.    ,  26.    ,  26.    ,  13.8625,  36.75  , 110.8833,\n",
       "         7.225 ,   7.775 ,  39.6   ,  79.65  ,  17.4   ,   7.8542,\n",
       "        10.5   ,  51.4792,  26.3875,   7.75  ,  13.    ,  55.9   ,\n",
       "         7.925 ,  30.    , 110.8833,  79.65  ,  79.2   ,  78.2667,\n",
       "        33.    ,  56.9292,  27.    ,  26.55  ,  30.5   ,  41.5792,\n",
       "       153.4625,  15.5   ,  65.    ,  39.    ,  52.5542,  15.7417,\n",
       "        77.9583,  30.    ,  30.5   ,  13.    ,  69.3   ,  56.4958,\n",
       "        19.2583,  76.7292,  35.5   ,   7.55  ,  23.    ,   7.8292,\n",
       "       133.65  ,   7.925 ,  52.    ,  39.    ,  13.    ,   9.8417,\n",
       "       512.3292,  76.7292, 211.3375,  57.    ,  13.4167,  56.4958,\n",
       "         7.7333, 227.525 ,  26.2875,  13.5   ,  26.2875, 151.55  ,\n",
       "        15.2458,  49.5042,  52.    , 227.525 ,  10.5   ,  33.    ,\n",
       "        53.1   ,  21.    ,   7.7375, 211.3375, 512.3292,  30.    ,\n",
       "       262.375 ,   7.925 ,  13.    ,  23.    ,  12.475 ,  65.    ,\n",
       "        14.5   ,  86.5   ,   7.2292, 120.    ,  77.9583,  23.    ,\n",
       "        12.475 , 211.3375,   7.2292,  57.    ,   7.4958,  20.575 ,\n",
       "        25.9292,   8.6833,  26.25  , 120.    ,   8.5167,   6.975 ,\n",
       "        53.1   ,  93.5   ,   8.6625,  12.475 ,  37.0042,   7.75  ,\n",
       "        80.    ,  14.4542,  18.75  ,  83.1583,  56.4958,  29.7   ,\n",
       "        31.    ,  89.1042,  39.4   ,   9.35  , 164.8667,  26.55  ,\n",
       "        19.2583,  25.9292,  13.    ,  13.8583,  11.1333,  52.5542,\n",
       "        24.    ,   7.225 ,  83.1583,  26.    ,  30.    ,  30.    ])"
      ]
     },
     "execution_count": 22,
     "metadata": {},
     "output_type": "execute_result"
    }
   ],
   "source": [
    "x1"
   ]
  },
  {
   "cell_type": "code",
   "execution_count": 23,
   "metadata": {},
   "outputs": [],
   "source": [
    "x2 = df[df[\"Survived\"] == 0][\"Fare\"].dropna().to_numpy()"
   ]
  },
  {
   "cell_type": "code",
   "execution_count": 24,
   "metadata": {},
   "outputs": [
    {
     "data": {
      "text/plain": [
       "array([  7.25  ,   8.05  ,   8.4583,  51.8625,  21.075 ,   8.05  ,\n",
       "        31.275 ,   7.8542,  29.125 ,  18.    ,  26.    ,  21.075 ,\n",
       "         7.225 , 263.    ,   7.8958,  27.7208,  10.5   ,  82.1708,\n",
       "        52.    ,   8.05  ,  18.    ,   9.475 ,  21.    ,   7.8958,\n",
       "         8.05  ,  15.5   ,  21.6792,  17.8   ,  39.6875,   7.8   ,\n",
       "        61.9792,   7.2292,  46.9   ,   7.2292,  83.475 ,  27.9   ,\n",
       "        27.7208,   8.1583,   8.6625,  10.5   ,  46.9   ,  73.5   ,\n",
       "        14.4542,   7.65  ,   7.8958,   8.05  ,   9.    ,  47.1   ,\n",
       "        34.375 ,   8.05  ,   8.05  ,   8.05  ,   7.8542,  61.175 ,\n",
       "        20.575 ,   7.25  ,   8.05  ,  34.6542,  26.    ,   7.8958,\n",
       "         7.8958,  77.2875,   8.6542,   7.925 ,   7.8958,   7.8958,\n",
       "        52.    ,  14.4542,   8.05  ,   9.825 ,  14.4583,   7.925 ,\n",
       "         7.75  ,  21.    , 247.5208,  31.275 ,  73.5   ,   8.05  ,\n",
       "        30.0708,  77.2875,   7.75  ,   6.975 ,   7.8958,   7.05  ,\n",
       "        14.5   ,  13.    ,  15.0458,  53.1   ,   9.2167,  79.2   ,\n",
       "        15.2458,   6.75  ,  11.5   ,  36.75  ,  34.375 ,  26.    ,\n",
       "        13.    ,  12.525 ,   8.05  ,  14.5   ,   7.3125,  61.3792,\n",
       "         8.05  ,   8.6625,  69.55  ,  16.1   ,   7.775 ,   8.6625,\n",
       "        39.6875,  27.9   ,  25.925 ,  56.4958,  33.5   ,  29.125 ,\n",
       "         7.925 ,  30.6958,   7.8542,  25.4667,  28.7125,  13.    ,\n",
       "         0.    ,  69.55  ,  15.05  ,  31.3875,  50.    ,  15.5   ,\n",
       "         7.8958,  13.    ,   7.75  ,   8.4042,  13.    ,   9.5   ,\n",
       "        69.55  ,   6.4958,   7.225 ,  10.4625,  15.85  ,   7.05  ,\n",
       "         7.25  ,  13.    ,   7.75  ,  27.    ,  10.5   ,  13.    ,\n",
       "         8.05  ,   7.8958,   9.35  ,   7.25  ,  13.    ,  25.4667,\n",
       "         7.775 ,  13.5   ,  10.5   ,   7.55  ,  26.    ,  10.5   ,\n",
       "        12.275 ,  14.4542,  10.5   ,   7.125 ,   7.225 ,  90.    ,\n",
       "         7.775 ,  26.    ,   7.25  ,  10.4625,  26.55  ,  16.1   ,\n",
       "        20.2125,   7.75  ,  79.65  ,   0.    ,   7.75  ,  10.5   ,\n",
       "        39.6875,  31.    ,  29.7   ,   7.75  ,   0.    ,  29.125 ,\n",
       "         7.75  ,   7.8542,   9.5   ,  26.    ,   8.6625,   7.8958,\n",
       "        12.875 ,   8.85  ,   7.8958,  27.7208,   7.2292, 151.55  ,\n",
       "         0.    ,   8.05  ,  24.    ,  26.    ,   7.8958,  26.25  ,\n",
       "        14.    ,   7.25  ,   7.8958,  69.55  ,   6.2375,  28.5   ,\n",
       "       153.4625,  18.    ,   7.8958,  66.6   ,  35.5   ,  13.    ,\n",
       "        13.    ,  13.    ,   8.6625,   9.225 ,  35.    ,   7.2292,\n",
       "        17.8   ,   7.225 ,   9.5   ,  13.    ,  27.9   ,  27.7208,\n",
       "        14.4542,   7.05  ,  15.5   ,   7.25  ,   6.4958,   8.05  ,\n",
       "       135.6333,  21.075 , 211.5   ,   4.0125,   7.775 ,   7.925 ,\n",
       "         7.8958,  73.5   ,  46.9   ,   7.7292,   7.925 ,   7.7958,\n",
       "         7.8542,  26.    ,  10.5   ,   8.05  ,   9.825 ,  15.85  ,\n",
       "         8.6625,  21.    ,   7.75  ,   7.775 ,  25.4667,   7.8958,\n",
       "         6.8583,   0.    ,   8.05  ,  13.    ,  24.15  ,   7.8958,\n",
       "         7.7333,   7.875 ,  14.4   ,  20.2125,   7.25  ,   7.75  ,\n",
       "         7.125 ,  55.9   ,  34.375 , 263.    ,  10.5   ,   9.5   ,\n",
       "         7.775 ,  27.75  ,  19.9667,  27.75  ,   8.05  ,  26.55  ,\n",
       "         7.75  ,   8.05  ,  38.5   ,  13.    ,   8.05  ,   7.05  ,\n",
       "         0.    ,  26.55  ,   7.725 ,   7.25  ,   8.6625,   9.8375,\n",
       "        52.    ,  21.    ,   7.0458,   7.5208,  46.9   ,   0.    ,\n",
       "         8.05  ,  25.4667,  29.7   ,   8.05  ,  19.9667,   7.25  ,\n",
       "        30.5   ,  49.5042,   8.05  ,  14.4583,  15.1   , 151.55  ,\n",
       "         7.7958,   8.6625,   7.75  ,   7.6292,   9.5875, 108.9   ,\n",
       "        22.525 ,   8.05  ,   7.4958,  34.0208,  24.15  ,   7.8958,\n",
       "         7.8958,   7.225 ,   7.2292,   7.75  , 221.7792,   7.925 ,\n",
       "        11.5   ,   7.2292,   7.2292,   8.6625,  26.55  ,  14.5   ,\n",
       "        31.275 ,  31.275 , 106.425 ,  26.    ,  20.525 ,  26.    ,\n",
       "         7.8292,  26.55  , 227.525 ,   7.75  ,   7.8958,  13.5   ,\n",
       "         8.05  ,   8.05  ,  24.15  ,   7.8958,  21.075 ,   7.2292,\n",
       "         8.05  ,  14.5   ,  14.4583,  26.    ,  40.125 ,   8.7125,\n",
       "        15.    ,   8.05  ,   8.05  ,   7.125 ,   7.25  ,   7.75  ,\n",
       "        26.    ,  24.15  ,   0.    ,   7.225 ,   7.8958,  42.4   ,\n",
       "         8.05  ,  15.55  ,   7.8958,  31.275 ,   7.05  ,   7.75  ,\n",
       "         8.05  ,  14.4   ,  16.1   ,  10.5   ,  14.4542,   7.8542,\n",
       "        16.1   ,  32.3208,  12.35  ,   7.8958,   7.7333,   7.0542,\n",
       "         0.    ,  27.9   ,   7.925 ,  26.25  ,  39.6875,  16.1   ,\n",
       "         7.8542,  27.9   ,   7.8958,   7.55  ,   7.8958,   8.4333,\n",
       "         6.75  ,  73.5   ,   7.8958,  15.5   ,  13.    , 113.275 ,\n",
       "         7.225 ,  25.5875,   7.4958,  73.5   ,  13.    ,   7.775 ,\n",
       "         8.05  ,  52.    ,  10.5   ,   0.    ,   7.775 ,   8.05  ,\n",
       "        46.9   ,   8.1375,   9.225 ,  46.9   ,  39.    ,  41.5792,\n",
       "        39.6875,  10.1708,   7.7958,   7.225 ,  26.55  ,  13.5   ,\n",
       "         8.05  , 110.8833,   7.65  ,  14.4542,   7.7417,   7.8542,\n",
       "        26.    ,  26.55  ,   9.4833,  13.    ,   7.65  ,  15.5   ,\n",
       "         7.775 ,   7.0542,  13.    ,  13.    ,   8.6625,  26.    ,\n",
       "         7.925 ,  18.7875,   0.    ,  13.    ,  13.    ,  16.1   ,\n",
       "        34.375 ,   7.8958,   7.8958,  78.85  ,  16.1   ,  71.    ,\n",
       "        20.25  ,  53.1   ,   7.75  ,   9.5   ,   7.8958,   7.7958,\n",
       "        11.5   ,   8.05  ,  14.5   ,   7.125 ,   7.775 ,  39.6   ,\n",
       "         7.75  ,  24.15  ,   8.3625,   9.5   ,   7.8542,  10.5   ,\n",
       "         7.225 ,   7.75  ,   7.75  ,   7.7375,  30.    ,  23.45  ,\n",
       "         7.05  ,   7.25  ,  29.125 ,  79.2   ,   7.75  ,  26.    ,\n",
       "        69.55  ,  30.6958,   7.8958,  13.    ,   7.2292,  24.15  ,\n",
       "        13.    ,   7.775 ,   0.    ,   7.775 ,  13.    ,   7.8875,\n",
       "        24.15  ,  10.5   ,  31.275 ,   8.05  ,   0.    ,   7.925 ,\n",
       "        37.0042,   6.45  ,  27.9   ,   0.    ,  39.6875,   6.95  ,\n",
       "        56.4958,   7.2292,   7.8542,   8.3   ,   8.6625,   8.05  ,\n",
       "         7.925 ,  10.5   ,   6.4375,   8.6625,   7.55  ,  69.55  ,\n",
       "         7.8958,  33.    ,  31.275 ,   7.775 ,  15.2458,  26.    ,\n",
       "         7.2292,  14.1083,  11.5   ,  69.55  ,  13.    ,  50.4958,\n",
       "         9.5   ,   7.8958,   5.    ,   9.    ,   9.8458,   7.8958,\n",
       "         7.8958,   7.8958,  10.5167,  10.5   ,   7.05  ,  29.125 ,\n",
       "        13.    ,  23.45  ,   7.75  ])"
      ]
     },
     "execution_count": 24,
     "metadata": {},
     "output_type": "execute_result"
    }
   ],
   "source": [
    "x2"
   ]
  },
  {
   "cell_type": "code",
   "execution_count": 26,
   "metadata": {},
   "outputs": [
    {
     "data": {
      "text/plain": [
       "<matplotlib.legend.Legend at 0x2268d06f690>"
      ]
     },
     "execution_count": 26,
     "metadata": {},
     "output_type": "execute_result"
    },
    {
     "data": {
      "image/png": "[encoded data removed]",
      "text/plain": [
       "<Figure size 640x480 with 1 Axes>"
      ]
     },
     "metadata": {},
     "output_type": "display_data"
    }
   ],
   "source": [
    "sns.kdeplot(x1,  label=\"Survived\")\n",
    "sns.kdeplot(x2,  label=\"Did Not Survive\")\n",
    "plt.legend()"
   ]
  },
  {
   "cell_type": "code",
   "execution_count": 27,
   "metadata": {},
   "outputs": [
    {
     "data": {
      "text/plain": [
       "(48.39540760233918, 22.117886885245902)"
      ]
     },
     "execution_count": 27,
     "metadata": {},
     "output_type": "execute_result"
    }
   ],
   "source": [
    "x1.mean(), x2.mean()"
   ]
  },
  {
   "cell_type": "code",
   "execution_count": 31,
   "metadata": {},
   "outputs": [],
   "source": [
    "z, p = ztest(x1, x2, usevar=\"unequal\")"
   ]
  },
  {
   "cell_type": "code",
   "execution_count": 32,
   "metadata": {},
   "outputs": [
    {
     "data": {
      "text/plain": [
       "6.839099259085254"
      ]
     },
     "execution_count": 32,
     "metadata": {},
     "output_type": "execute_result"
    }
   ],
   "source": [
    "z"
   ]
  },
  {
   "cell_type": "code",
   "execution_count": 34,
   "metadata": {},
   "outputs": [
    {
     "name": "stdout",
     "output_type": "stream",
     "text": [
      "0.000000000007969\n"
     ]
    }
   ],
   "source": [
    "formatted_p = f\"{p:.15f}\"\n",
    "print(formatted_p)"
   ]
  },
  {
   "cell_type": "code",
   "execution_count": 35,
   "metadata": {},
   "outputs": [
    {
     "data": {
      "text/plain": [
       "(-6.839099259085254, 7.969223252618599e-12)"
      ]
     },
     "execution_count": 35,
     "metadata": {},
     "output_type": "execute_result"
    }
   ],
   "source": [
    "# Verify with above code\n",
    "# two-sample test implementation\n",
    "N0 = len(x1)\n",
    "N1 = len(x2)\n",
    "mu_hat0 = x1.mean()\n",
    "mu_hat1 = x2.mean()\n",
    "dmu_hat = mu_hat1 - mu_hat0\n",
    "s2_hat0 = x1.var(ddof=1)\n",
    "s2_hat1 = x2.var(ddof=1)\n",
    "s_hat = np.sqrt(s2_hat0 / N0 + s2_hat1 / N1)\n",
    "z = dmu_hat / s_hat # reference value is 0\n",
    "p_right = 1 - norm.cdf(np.abs(z))\n",
    "p_left = norm.cdf(-np.abs(z))\n",
    "p = p_right + p_left\n",
    "z, p"
   ]
  },
  {
   "cell_type": "code",
   "execution_count": 37,
   "metadata": {},
   "outputs": [
    {
     "name": "stdout",
     "output_type": "stream",
     "text": [
      "0.000000000007969\n"
     ]
    }
   ],
   "source": [
    "formatted_p = f\"{p:.15f}\"\n",
    "print(formatted_p)"
   ]
  }
 ],
 "metadata": {
  "kernelspec": {
   "display_name": ".venv",
   "language": "python",
   "name": "python3"
  },
  "language_info": {
   "codemirror_mode": {
    "name": "ipython",
    "version": 3
   },
   "file_extension": ".py",
   "mimetype": "text/x-python",
   "name": "python",
   "nbconvert_exporter": "python",
   "pygments_lexer": "ipython3",
   "version": "3.11.9"
  }
 },
 "nbformat": 4,
 "nbformat_minor": 2
}
